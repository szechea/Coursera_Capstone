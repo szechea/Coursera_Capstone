{
    "cells": [
        {
            "cell_type": "markdown",
            "metadata": {
                "collapsed": true
            },
            "source": "<h1> The Battle of Neighborhoods </h1>"
        },
        {
            "cell_type": "markdown",
            "metadata": {},
            "source": "<h4>1.1 Introduction/Background</h4>\n\nLike any other nation, Singapore certainly does not lack any of its vibrant coffee scent that is Uniquely Singapore. Fuled by the influx of immigrants in the 19th century, locals open coffee shops to satisfy the growing European working population. Later on, coffee shop owners made an equally delicious brew to the local population by using fannel \"socks\" to filter the coffee and finishing off with sugar and evaporated milk. The traditional way of coffee making is pocket friendly and among the favorites with locals today. \n\n<h4>1.2 Business problem </h4>\nThe coffee culture scene changes along with time with many new cafes - independent and chain operator marking their ground in all parts of Singapore. This bring in new challenges and competition in the coffee making industry. In this project, we will analyse the coffee shops currently available in the neighborhoods, identify the highest number of coffee shops in the neighborhood and recommend any potential neighborhood to start a coffee shop business.\n\n<h4>1.3 Target audience</h4>\n\n - Business owners that are venturing into coffee shop business\n - Business analyst that are curious about the coffee shop scene in Singapore "
        },
        {
            "cell_type": "markdown",
            "metadata": {},
            "source": "<h4>2. Data Preparation and Processing Requirements </h4>"
        },
        {
            "cell_type": "markdown",
            "metadata": {},
            "source": "These are the data processing steps that will be used in the project \n - Scrape the Wikipedia page of Singapore neighborhood data and read it into a pandas dataframe: <br>https://en.wikipedia.org/wiki/Planning_Areas_of_Singapore#cite_note-7\n - Clean the resulting dataframe and only keeping the name and region\n - Get the coordinates of the major regions using Geopy client \n - Extract the venue data related to coffee shops using Foursquare API\n - Finding the optimal number of clusters for K-means clustering\n - Finally, we visualize the cluster map using folium package"
        },
        {
            "cell_type": "code",
            "execution_count": null,
            "metadata": {},
            "outputs": [],
            "source": ""
        }
    ],
    "metadata": {
        "kernelspec": {
            "display_name": "Python 3.6",
            "language": "python",
            "name": "python3"
        },
        "language_info": {
            "codemirror_mode": {
                "name": "ipython",
                "version": 3
            },
            "file_extension": ".py",
            "mimetype": "text/x-python",
            "name": "python",
            "nbconvert_exporter": "python",
            "pygments_lexer": "ipython3",
            "version": "3.6.9"
        }
    },
    "nbformat": 4,
    "nbformat_minor": 1
}